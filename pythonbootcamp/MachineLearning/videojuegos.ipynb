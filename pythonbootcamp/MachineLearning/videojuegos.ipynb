{
 "cells": [
  {
   "cell_type": "code",
   "execution_count": 62,
   "id": "46325fc5-abd5-4890-a333-66a5c0f7987a",
   "metadata": {},
   "outputs": [
    {
     "data": {
      "text/plain": [
       "['recomendador-juegos.joblib']"
      ]
     },
     "execution_count": 62,
     "metadata": {},
     "output_type": "execute_result"
    }
   ],
   "source": [
    "import pandas as pd\n",
    "from sklearn.tree import DecisionTreeClassifier \n",
    "import joblib \n",
    "\n",
    "#data_juegos = pd.read_csv(\"juegos-ml.csv\")\n",
    "#X = data_juegos.drop(columns=[\"juegos\"])\n",
    "#y = data_juegos[\"juegos\"]\n",
    "\n",
    "#modelo = DecisionTreeClassifier()\n",
    "#modelo.fit(X.values,y)\n",
    "#predicciones = modelo.predict([[14,0]])\n",
    "\n",
    "modelo = joblib.load(\"recomendador-juegos.joblib\")\n",
    "predicciones = modelo.predict([[14,0]])\n",
    "predicciones"
   ]
  },
  {
   "cell_type": "code",
   "execution_count": null,
   "id": "be513b47-e6ae-4ff1-bd8e-d6de32f18390",
   "metadata": {},
   "outputs": [],
   "source": []
  }
 ],
 "metadata": {
  "kernelspec": {
   "display_name": "Python 3 (ipykernel)",
   "language": "python",
   "name": "python3"
  },
  "language_info": {
   "codemirror_mode": {
    "name": "ipython",
    "version": 3
   },
   "file_extension": ".py",
   "mimetype": "text/x-python",
   "name": "python",
   "nbconvert_exporter": "python",
   "pygments_lexer": "ipython3",
   "version": "3.13.5"
  }
 },
 "nbformat": 4,
 "nbformat_minor": 5
}
